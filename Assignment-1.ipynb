{
 "cells": [
  {
   "cell_type": "markdown",
   "id": "04ede944-2e95-49cc-9174-5a98d101683f",
   "metadata": {},
   "source": [
    "# Python Practice Problems"
   ]
  },
  {
   "cell_type": "markdown",
   "id": "ebb8c0ff-710e-4a97-b896-0cf887420fcd",
   "metadata": {},
   "source": [
    "### 1. Find the Largest of Two Numbers\n",
    "**Task:** Given two numbers, find the larger one.  \n",
    "**Demo Input:**  5 and 6 <br>\n",
    "**Output:** 6\n"
   ]
  },
  {
   "cell_type": "code",
   "execution_count": 2,
   "id": "7cf5481c-88f3-4c9f-978e-adede1f3a6c3",
   "metadata": {},
   "outputs": [
    {
     "name": "stdout",
     "output_type": "stream",
     "text": [
      "6\n"
     ]
    }
   ],
   "source": [
    "a = 5\n",
    "b = 6\n",
    "print(max(a, b))\n"
   ]
  },
  {
   "cell_type": "markdown",
   "id": "657f71c8-db96-4490-9a2f-b37d1f7b9954",
   "metadata": {},
   "source": [
    "### 2. Print Numbers from 1 to N\n",
    "**Task**: Given a number `n`, print all numbers from 1 to `n`. <br> \n",
    "**Demo Input**: `5`  <br>\n",
    "**Demo Output**:  1 2 3 4 5\n"
   ]
  },
  {
   "cell_type": "code",
   "execution_count": 3,
   "id": "273d1ae2-3c58-41ae-82f3-1c40cd63ac60",
   "metadata": {},
   "outputs": [
    {
     "name": "stdout",
     "output_type": "stream",
     "text": [
      "1\n",
      "2\n",
      "3\n",
      "4\n",
      "5\n"
     ]
    }
   ],
   "source": [
    "for i in range(1, 6, 1):\n",
    "    print(i)"
   ]
  },
  {
   "cell_type": "markdown",
   "id": "fba5e019-ce56-497b-9807-556d5ca73c02",
   "metadata": {},
   "source": [
    "### 3. Check if a Number is Positive or Negative\n",
    "**Task**: Determine if the input number is positive, negative, or zero.  \n",
    "**Demo Input**: `-3`  \n",
    "**Demo Output**: `The number is Negative`"
   ]
  },
  {
   "cell_type": "code",
   "execution_count": 4,
   "id": "28e1c4ae-0ec4-4531-888f-fb774c9695e9",
   "metadata": {},
   "outputs": [
    {
     "name": "stdout",
     "output_type": "stream",
     "text": [
      "['The number is Negative']\n"
     ]
    }
   ],
   "source": [
    "n=-3\n",
    "x=[\"The number is Positive\" if n>0 else \"The number is Negative\" if n<0 else \"zero\" ]\n",
    "print(x)\n"
   ]
  },
  {
   "cell_type": "markdown",
   "id": "3927ce28-1193-4a2d-b850-5fe600010599",
   "metadata": {},
   "source": [
    "### 4. Calculate the Sum of Digits\n",
    "**Task**: Given a number, find the sum of its digits.  \n",
    "**Demo Input**: `123`  \n",
    "**Demo Output**: `6`  \n",
    "(Explanation: `1+2+3=6`)"
   ]
  },
  {
   "cell_type": "code",
   "execution_count": 5,
   "id": "3b876b3c-9360-4929-bd3c-98824723be4f",
   "metadata": {},
   "outputs": [
    {
     "name": "stdout",
     "output_type": "stream",
     "text": [
      "6\n"
     ]
    }
   ],
   "source": [
    "num = 123\n",
    "sum = 0\n",
    "\n",
    "while num!=0:\n",
    "\tdigit = int(num%10)\n",
    "\tsum += digit\n",
    "\tnum = num/10\n",
    "\n",
    "print(sum)"
   ]
  },
  {
   "cell_type": "markdown",
   "id": "de1b2976-9385-4cda-a5da-9839074563f3",
   "metadata": {},
   "source": [
    "### 5. Find Factorial of a Number\n",
    "**Task**: Calculate the factorial of a given number.  \n",
    "**Demo Input**: `4`  \n",
    "**Demo Output**: `24`  \n",
    "(Explanation: `4! = 4*3*2*1 = 24`)"
   ]
  },
  {
   "cell_type": "code",
   "execution_count": 7,
   "id": "bf497a32-5708-4782-b8f3-cb82d14ea089",
   "metadata": {},
   "outputs": [
    {
     "name": "stdout",
     "output_type": "stream",
     "text": [
      "24\n"
     ]
    }
   ],
   "source": [
    "num = 4\n",
    "\n",
    "factorial = 1\n",
    "for i in range(1, num + 1):\n",
    "    factorial *= i\n",
    "print(factorial)"
   ]
  },
  {
   "cell_type": "markdown",
   "id": "4e4dbbdc-4d6e-4a67-9f91-e719da00fd05",
   "metadata": {},
   "source": [
    "### 6. Count Occurrences of a Digit\n",
    "**Task**: Count how many times a specific digit appears max in a number.  \n",
    "**Demo Input**:  1233321 <br>\n",
    "**Demo Output**: `3`  <br>\n",
    "(Explanation: `3` appears 3 times in `1233321`)"
   ]
  },
  {
   "cell_type": "code",
   "execution_count": 1,
   "id": "9cf3faec-3624-4619-9af2-f12bb7485cd1",
   "metadata": {},
   "outputs": [
    {
     "name": "stdout",
     "output_type": "stream",
     "text": [
      "3\n"
     ]
    }
   ],
   "source": [
    "var =(1,2,3,3,3,2,1)\n",
    "count = var.count(3)\n",
    "print(count)"
   ]
  },
  {
   "cell_type": "markdown",
   "id": "6c55c5cc-ed29-439a-a31d-ff537399ea9c",
   "metadata": {},
   "source": [
    "### 7. Find the GCD of Two Numbers\n",
    "**Task**: Find the greatest common divisor (GCD) of two numbers.  \n",
    "**Demo Input**: 8 and 12 <br>\n",
    "**Demo Output**: `4`"
   ]
  },
  {
   "cell_type": "code",
   "execution_count": 2,
   "id": "a7c97bae-a541-4700-bced-31337510b13b",
   "metadata": {},
   "outputs": [
    {
     "name": "stdout",
     "output_type": "stream",
     "text": [
      "4\n"
     ]
    }
   ],
   "source": [
    "import math\n",
    "print (math.gcd(8, 12))"
   ]
  },
  {
   "cell_type": "markdown",
   "id": "70028a59-e953-4dc7-89b3-ee04d6452f4a",
   "metadata": {},
   "source": [
    "### 8. Reverse a String\n",
    "**Task**: Reverse the given string. \n",
    "**Demo Input**: `\"aiquest\"`  \n",
    "**Demo Output**: `\"tseuqia\"`"
   ]
  },
  {
   "cell_type": "code",
   "execution_count": 3,
   "id": "d161cbc2-64b2-475e-8e2e-e886c0c5e90b",
   "metadata": {},
   "outputs": [
    {
     "name": "stdout",
     "output_type": "stream",
     "text": [
      "tseuqia\n"
     ]
    }
   ],
   "source": [
    "def reverse(x):\n",
    "  return x[::-1]\n",
    "\n",
    "mytxt = reverse(\"aiquest\")\n",
    "\n",
    "print(mytxt)"
   ]
  },
  {
   "cell_type": "markdown",
   "id": "dc800ee0-b0ed-4276-b816-6648f279d491",
   "metadata": {},
   "source": [
    "### 9. Check Armstrong Number\n",
    "**Task**: Check if a number is an Armstrong number (the sum of its digits raised to the power of the number of digits equals the number).  \n",
    "**Demo Input**: `153`  \n",
    "**Demo Output**: `153 is an Armstrong Number`  \n",
    "(Explanation: \\(1^3 + 5^3 + 3^3 = 153\\))"
   ]
  },
  {
   "cell_type": "code",
   "execution_count": 8,
   "id": "03909781-a6e4-40bf-ad07-c395fa4581a7",
   "metadata": {},
   "outputs": [
    {
     "name": "stdout",
     "output_type": "stream",
     "text": [
      "153\n",
      "The number is Armstrong\n"
     ]
    }
   ],
   "source": [
    "n = 153\n",
    "x = 0\n",
    "y = 0\n",
    "z = 0\n",
    "num = n\n",
    "while n > 0:\n",
    "    x = n % 10\n",
    "    y = x**len(str(num))\n",
    "    z = z+y\n",
    "    n = n//10\n",
    "\n",
    "print(z)\n",
    "if (z == num):\n",
    "    print (\"The number is Armstrong\")\n",
    "else:\n",
    "    print (\"The number isn't Armstrong\")\n"
   ]
  },
  {
   "cell_type": "markdown",
   "id": "ea46367c-7acb-4cfa-94c4-314e0792f94d",
   "metadata": {},
   "source": [
    "### 10. Generate a Pattern\n",
    "**Task**: Print a pyramid pattern with `n` rows.  \n",
    "**Demo input:** 4 <br>\n",
    "**Output:** You will see the pyramid pattern with 4 rows"
   ]
  },
  {
   "cell_type": "code",
   "execution_count": 11,
   "id": "ea16c227-18a9-4a44-9480-a999ad99e222",
   "metadata": {},
   "outputs": [
    {
     "name": "stdout",
     "output_type": "stream",
     "text": [
      "   4\n",
      "  444\n",
      " 44444\n",
      "4444444\n"
     ]
    }
   ],
   "source": [
    "def full_pyramid(levels):\n",
    "    for i in range(1, levels + 1):\n",
    "        # Print leading spaces\n",
    "        print(' ' * (levels - i) + '4' * (2 * i - 1))\n",
    "\n",
    "full_pyramid(4)"
   ]
  },
  {
   "cell_type": "code",
   "execution_count": null,
   "id": "5030891a-2ebb-4010-acb3-975241cd8c39",
   "metadata": {},
   "outputs": [],
   "source": []
  }
 ],
 "metadata": {
  "kernelspec": {
   "display_name": "Python 3 (ipykernel)",
   "language": "python",
   "name": "python3"
  },
  "language_info": {
   "codemirror_mode": {
    "name": "ipython",
    "version": 3
   },
   "file_extension": ".py",
   "mimetype": "text/x-python",
   "name": "python",
   "nbconvert_exporter": "python",
   "pygments_lexer": "ipython3",
   "version": "3.12.3"
  }
 },
 "nbformat": 4,
 "nbformat_minor": 5
}
